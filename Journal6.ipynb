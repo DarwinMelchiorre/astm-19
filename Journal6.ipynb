{
 "cells": [
  {
   "cell_type": "code",
   "execution_count": 1,
   "id": "50982730-ae0a-47d2-8eeb-2c154107d925",
   "metadata": {},
   "outputs": [],
   "source": [
    "import numpy as np"
   ]
  },
  {
   "cell_type": "markdown",
   "id": "060276a5-bfaf-42fc-b6f0-ae613b2b62ef",
   "metadata": {},
   "source": [
    "    #funtions that return sin(x)"
   ]
  },
  {
   "cell_type": "code",
   "execution_count": 35,
   "id": "7199c8bd-a55b-44bc-b2a7-4a9dfce59035",
   "metadata": {},
   "outputs": [],
   "source": [
    "def sin(X):\n",
    "    return np.sin(x)"
   ]
  },
  {
   "cell_type": "markdown",
   "id": "fc192392-d260-4865-9b57-afe886bb3cd2",
   "metadata": {},
   "source": [
    "    #funtions that return con(x)"
   ]
  },
  {
   "cell_type": "code",
   "execution_count": 58,
   "id": "950383ee-4fbc-4fab-ae07-fbcb98fb37e5",
   "metadata": {},
   "outputs": [],
   "source": [
    " def cos(X):\n",
    "     return np.cos(x)"
   ]
  },
  {
   "cell_type": "markdown",
   "id": "a8539d49-64a6-4ea8-91e9-9e3faea6b948",
   "metadata": {},
   "source": [
    "#This will use a for loop to write the first 10 values of x, sin(x), and cos(x) in columns."
   ]
  },
  {
   "cell_type": "code",
   "execution_count": 59,
   "id": "b6093a34-071b-4aad-ac17-fcc63702bf5f",
   "metadata": {},
   "outputs": [
    {
     "name": "stdout",
     "output_type": "stream",
     "text": [
      "  x   | sin(x)| cos(x) \n",
      "0.000 | 0.000 | 1.000\n",
      "0.006 | 0.006 | 1.000\n",
      "0.013 | 0.013 | 1.000\n",
      "0.019 | 0.019 | 1.000\n",
      "0.025 | 0.025 | 1.000\n",
      "0.031 | 0.031 | 1.000\n",
      "0.038 | 0.038 | 0.999\n",
      "0.044 | 0.044 | 0.999\n",
      "0.050 | 0.050 | 0.999\n",
      "0.057 | 0.057 | 0.998\n"
     ]
    }
   ],
   "source": [
    "#def main():\n",
    "n = 1000   #defines int\n",
    "x = np.arange(n,dtype=float) #defines array with n different numbers\n",
    "x *= 2.0*np.pi / float(n-1) #changes all 1000 numbers that create n to numbers between 0-2pi\n",
    "z = sin(x) #sets z to sin of x\n",
    "w = cos(x) #sets w to con of x\n",
    "  \n",
    "print(\"  x   | sin(x)| cos(x) \")\n",
    "for i in range(10):\n",
    "    print(f\"{x[i]:.3f} | {z[i]:.3f} | {w[i]:.3f}\")\n"
   ]
  },
  {
   "cell_type": "code",
   "execution_count": null,
   "id": "4584d96d-4621-4b9f-9d12-fc1ab8d64e08",
   "metadata": {},
   "outputs": [],
   "source": []
  }
 ],
 "metadata": {
  "kernelspec": {
   "display_name": "Python 3 (ipykernel)",
   "language": "python",
   "name": "python3"
  },
  "language_info": {
   "codemirror_mode": {
    "name": "ipython",
    "version": 3
   },
   "file_extension": ".py",
   "mimetype": "text/x-python",
   "name": "python",
   "nbconvert_exporter": "python",
   "pygments_lexer": "ipython3",
   "version": "3.11.5"
  }
 },
 "nbformat": 4,
 "nbformat_minor": 5
}
